{
  "nbformat": 4,
  "nbformat_minor": 0,
  "metadata": {
    "colab": {
      "name": "SKT.ipynb",
      "version": "0.3.2",
      "provenance": [],
      "collapsed_sections": [
        "s3QrsmyaevNH",
        "P9pWuLC-gQ4C",
        "6D1N6yckjzSA"
      ]
    },
    "kernelspec": {
      "name": "python3",
      "display_name": "Python 3"
    }
  },
  "cells": [
    {
      "metadata": {
        "id": "s3QrsmyaevNH",
        "colab_type": "text"
      },
      "cell_type": "markdown",
      "source": [
        "#Задача\n",
        "Привести уравнение кривой \n",
        "$x^2+y^2+xy-3x-3y+2=0$\n",
        "к каноническому виду и построить эту кривую."
      ]
    },
    {
      "metadata": {
        "id": "4N9pV83Vjk_Y",
        "colab_type": "code",
        "colab": {}
      },
      "cell_type": "code",
      "source": [
        "import sys\n",
        "import matplotlib\n",
        "import numpy as np\n",
        "import matplotlib as mpl\n",
        "import matplotlib.pyplot as plt\n",
        "%matplotlib inline\n",
        "import sympy as sp\n",
        "from sympy.abc import x,y\n",
        "sp.init_printing(use_latex='matplotlib')\n",
        "from IPython.display import Math, HTML"
      ],
      "execution_count": 0,
      "outputs": []
    },
    {
      "metadata": {
        "id": "IFYJUZwfi_7h",
        "colab_type": "text"
      },
      "cell_type": "markdown",
      "source": [
        "Ввести параметры\n",
        "$A,B,C,D,E,F$ \n",
        "(\n",
        "[1](https://www.wolframalpha.com/input/?i=3*x*x+-+2*x*y+%2B+3*y*y+-+4*x+-+4*y+-+28+%3D+0), \n",
        "[2](https://www.wolframalpha.com/input/?i=x*x++%2B+x*y+%2B+y*y+-+3*x+-3*y+%2B+2+%3D+0)\n",
        ")\n",
        "общего уравнения эллипса вида \n",
        "$$Ax^2+Bxy+Cy^2+Dx+Ey+F=0 \\text{, где}$$\n",
        "$$B^2-4AC<0,\n",
        "C\\begin{vmatrix}\n",
        "A & B/2 & D/2 \\\\ \n",
        "B/2 & C & E/2 \\\\ \n",
        "D/2 & E/2 & F \\\\\n",
        "\\end{vmatrix} < 0$$"
      ]
    },
    {
      "metadata": {
        "id": "JJ4OeF4thcCA",
        "colab_type": "code",
        "cellView": "both",
        "colab": {}
      },
      "cell_type": "code",
      "source": [
        "#@title Ввод параметров\n",
        "A = 1   #@param {type:\"integer\"}\n",
        "B = 1   #@param {type:\"integer\"}\n",
        "C = 1   #@param {type:\"integer\"}\n",
        "D = -3  #@param {type:\"integer\"}\n",
        "E = -3  #@param {type:\"integer\"}\n",
        "F = 2   #@param {type:\"integer\"}\n",
        "\n",
        "#A,B,C,D,E,F = 3,-2,3,-4,-4,-28"
      ],
      "execution_count": 0,
      "outputs": []
    },
    {
      "metadata": {
        "id": "Z4JmMhqW9ULk",
        "colab_type": "code",
        "outputId": "f901a345-6f1c-4ad1-fc1e-71ab37189c45",
        "colab": {
          "base_uri": "https://localhost:8080/",
          "height": 80
        }
      },
      "cell_type": "code",
      "source": [
        "print('Исходное уравнение: ')\n",
        "Eq = sp.Eq(A*x**2 + B*x*y + C*y**2 + D*x + E*y + F, 0)\n",
        "Eq"
      ],
      "execution_count": 3,
      "outputs": [
        {
          "output_type": "stream",
          "text": [
            "Исходное уравнение: \n"
          ],
          "name": "stdout"
        },
        {
          "output_type": "execute_result",
          "data": {
            "image/png": "[encoded data removed]",
            "text/plain": [
              " 2                2              \n",
              "x  + x⋅y - 3⋅x + y  - 3⋅y + 2 = 0"
            ]
          },
          "metadata": {
            "tags": []
          },
          "execution_count": 3
        }
      ]
    },
    {
      "metadata": {
        "id": "P9pWuLC-gQ4C",
        "colab_type": "text"
      },
      "cell_type": "markdown",
      "source": [
        "# Решение\n"
      ]
    },
    {
      "metadata": {
        "id": "41XAjVd3TebT",
        "colab_type": "text"
      },
      "cell_type": "markdown",
      "source": [
        "С помощью поворота и параллельного переноса общее уравнение эллипса вида\n",
        "\n",
        "$$\n",
        "Ax^2+Bxy+Cy^2+Dx+Ey+F=0 \\tag{1}\n",
        "$$\n",
        "\n",
        "можно привести к виду \n",
        "$$\\frac{(x-X_c)^2}{a^2} + \\frac{(y-Y_c)^2}{b^2}=1$$\n",
        "\n",
        "При этом\n",
        "$$\n",
        "a,b=\\frac\n",
        "    {-\\sqrt{2(AE^2+CD^2-BDE+(B^2-4AC)F)(A+C\\pm\\sqrt{(A-C)^2+B^2)}}}\n",
        "    {B^2-4AC}\n",
        "$$\n",
        "\n",
        "$$X_c=\\frac{2CD-BE}{B^2-4AC},Y_c=\\frac{2AE-BD}{B^2-4AC}$$\n",
        "$$\\Theta=\n",
        "\\begin{cases}\n",
        "     0 & B=0,A<C \\\\\n",
        "     90° & B=0,A>C \\\\\n",
        "     \\arctan{\\frac{C-A-\\sqrt{(A-C)^2 + B^2}}{B}} & B\\ne 0 \n",
        "\\end{cases}\n",
        "$$\n",
        "\n",
        "---\n",
        "\n",
        "Обратно, при известных значениях длин полуосей $a,b$, центра симметрии $(x_c,y_c)$ и угла поворота $\\Theta$ можно восстановить общее уравнение $(1)$, используя соотношения\n",
        "\n",
        "$$A=a^2(\\sin{\\Theta})^2 + b^2 (\\cos{\\Theta})^2$$\n",
        "$$B=2(b^2-a^2)\\sin{\\Theta}\\cos{\\Theta}$$\n",
        "$$C=a^2(\\cos{\\Theta})^2 + b^2 (\\sin{\\Theta})^2$$\n",
        "$$D=-2Ax_c-By_c$$\n",
        "$$E=-Bx_c-2Cy_c$$\n",
        "$$F=Ax_c^2+Bx_cy_c+Cy_c^2-a^2b^2$$\n"
      ]
    },
    {
      "metadata": {
        "id": "wJyEHe0jj6D_",
        "colab_type": "code",
        "outputId": "96cd3c72-3eec-494c-b097-984ccb540f68",
        "colab": {
          "base_uri": "https://localhost:8080/",
          "height": 86
        }
      },
      "cell_type": "code",
      "source": [
        "#Проверим, что у нас 'нормальный' эллипс\n",
        "if B**2 - 4*A*C >= 0 or C*sp.Matrix([[A, B/2, D/2], [D/2, C, E/2], [D/2, E/2, F]]).det() >= 0:\n",
        "  sys.exit(\"Эллипс мнимый или вырожденный\")  \n",
        "\n",
        "#Считаем параметры канонического уравнения\n",
        "\n",
        "#Полуоси\n",
        "a = -sp.sqrt(2*(A*E**2 + C*D**2 - B*D*E + (B**2 - 4*A*C)*F) * (A + C + sp.sqrt((A - C)**2 +B**2))) / (B**2 - 4*A*C)\n",
        "b = -sp.sqrt(2*(A*E**2 + C*D**2 - B*D*E + (B**2 - 4*A*C)*F) * (A + C - sp.sqrt((A - C)**2 +B**2))) / (B**2 - 4*A*C)\n",
        "\n",
        "#Угол поворота и новый центр симметрии\n",
        "theta = sp.atan((C - A - sp.sqrt((A - C)**2 + B**2)) / B)\n",
        "Xc = (2*C*D - B*E) / (B**2 - 4*A*C)\n",
        "Yc = (2*A*E - B*D) / (B**2 - 4*A*C)\n",
        "Xr = Xc*sp.cos(theta) - Yc*sp.sin(theta)\n",
        "Yr = Xc*sp.sin(theta) + Yc*sp.cos(theta)\n",
        "\n",
        "if a > b: \n",
        "  Xr,Yr = Yr,Xr\n",
        "\n",
        "print('Каноническое уравнение: ')\n",
        "Eqc = sp.Eq((x - Xr)**2 / a**2 + (y - Yr)**2 / b**2, 1)\n",
        "Eqc"
      ],
      "execution_count": 4,
      "outputs": [
        {
          "output_type": "stream",
          "text": [
            "Каноническое уравнение: \n"
          ],
          "name": "stdout"
        },
        {
          "output_type": "execute_result",
          "data": {
            "image/png": "[encoded data removed]",
            "text/plain": [
              " 2                 2    \n",
              "x    3⋅(y - 1.0⋅√2)     \n",
              "── + ─────────────── = 1\n",
              "2           2           "
            ]
          },
          "metadata": {
            "tags": []
          },
          "execution_count": 4
        }
      ]
    },
    {
      "metadata": {
        "id": "9rfruNaqhm8d",
        "colab_type": "text"
      },
      "cell_type": "markdown",
      "source": [
        "# Построение"
      ]
    },
    {
      "metadata": {
        "id": "AUBCuZjnCUFH",
        "colab_type": "text"
      },
      "cell_type": "markdown",
      "source": [
        "Для построение эллипса как множества точек удобно применить параметрическое уравнение\n",
        "$\n",
        "\\begin{cases}\n",
        "     x(t) = a\\cos{t} &\\\\\n",
        "     y(t) = b\\sin{t} & \\\\     \n",
        "\\end{cases}\n",
        "$\n",
        "$0 \\leqslant t \\leqslant 2\\pi$\n",
        "\n",
        "![]https://upload.wikimedia.org/wikipedia/commons/5/57/Parametric_ellipse.gif)"
      ]
    },
    {
      "metadata": {
        "id": "A9QK0tBphrPN",
        "colab_type": "code",
        "outputId": "ca60b989-d2af-4072-e59c-6fb163c4b352",
        "colab": {
          "base_uri": "https://localhost:8080/",
          "height": 288
        }
      },
      "cell_type": "code",
      "source": [
        "sp.plot_implicit(A*x**2 + B*x*y + C*y**2 + D*x + E*y + F)"
      ],
      "execution_count": 5,
      "outputs": [
        {
          "output_type": "display_data",
          "data": {
            "image/png": "[encoded data removed]",
            "text/plain": [
              "<Figure size 432x288 with 1 Axes>"
            ]
          },
          "metadata": {
            "tags": []
          }
        },
        {
          "output_type": "execute_result",
          "data": {
            "text/plain": [
              "<sympy.plotting.plot.Plot at 0x7f97df61a438>"
            ]
          },
          "metadata": {
            "tags": []
          },
          "execution_count": 5
        }
      ]
    },
    {
      "metadata": {
        "id": "6g4Kj-7xAdae",
        "colab_type": "code",
        "outputId": "a50bc5a8-3deb-4762-9291-f0818f44ec34",
        "colab": {
          "base_uri": "https://localhost:8080/",
          "height": 350
        }
      },
      "cell_type": "code",
      "source": [
        "RN = 100\n",
        "phi, a, b = float(theta), float(a), float(b)\n",
        "\n",
        "#Эллипс\n",
        "t = np.linspace(0, 2*np.pi, RN)\n",
        "Xp, Yp = a*np.cos(t), b*np.sin(t)\n",
        "Xp, Yp = Xc + np.cos(phi)*Xp - np.sin(phi)*Yp, Yc + np.sin(phi)*Xp + np.cos(phi)*Yp\n",
        "plt.plot(Xp, Yp)\n",
        "\n",
        "#Оси\n",
        "plt.arrow(np.min(Xp) * 1.5, 0, np.max(Xp) * 1.5, 0, head_width=0.05, head_length=0.1, fc='k', ec='k')\n",
        "plt.arrow(0, np.min(Yp) * 1.5, 0, np.max(Yp) * 1.5, head_width=0.05, head_length=0.1, fc='k', ec='k')\n",
        "\n",
        "#Вертикальная ось\n",
        "Yl2, Xl2 = np.linspace(-np.min([a,b]) * 1.2, np.min([a,b]) * 1.2, RN), np.zeros(RN)\n",
        "Xl2, Yl2 = Xc + np.cos(phi)*Xl2 - np.sin(phi)*Yl2, Yc + np.sin(phi)*Xl2 + np.cos(phi)*Yl2\n",
        "plt.plot(Xl2, Yl2, 'k--', linewidth=1.0)\n",
        "\n",
        "#Горизонтальная ось\n",
        "Xl1, Yl1 = np.linspace(-np.max([a,b]) * 1.2, np.max([a,b]) * 1.2, RN), np.zeros(RN)\n",
        "Xl1, Yl1 = Xc + np.cos(phi)*Xl1 - np.sin(phi)*Yl1, Yc + np.sin(phi)*Xl1 + np.cos(phi)*Yl1\n",
        "plt.plot(Xl1, Yl1, 'k--', linewidth=1.0)\n",
        "\n",
        "#Центр симметрии\n",
        "plt.plot(Xc, Yc, 'kp')\n",
        "\n",
        "#Заголовок\n",
        "Title = \"Исходное уравнение: \" + '$' + sp.latex(Eq) + '$' + '\\n'\n",
        "Title += \"Каноническое уравнение: \" + '$' + sp.latex(Eqc) + '$' + '\\n'\n",
        "plt.title(Title)\n",
        "\n",
        "plt.axis('scaled')\n",
        "plt.gca().set_xlim([np.min(Xp) * 1.51, np.max(Xp) * 1.51])\n",
        "plt.gca().set_ylim([np.min(Yp) * 1.51, np.max(Yp) * 1.51])\n",
        "plt.draw()"
      ],
      "execution_count": 6,
      "outputs": [
        {
          "output_type": "display_data",
          "data": {
            "image/png": "[encoded data removed]",
            "text/plain": [
              "<Figure size 432x288 with 1 Axes>"
            ]
          },
          "metadata": {
            "tags": []
          }
        }
      ]
    },
    {
      "metadata": {
        "id": "6D1N6yckjzSA",
        "colab_type": "text"
      },
      "cell_type": "markdown",
      "source": [
        "# $\\LaTeX$"
      ]
    },
    {
      "metadata": {
        "id": "xNCBVz4IkEzn",
        "colab_type": "text"
      },
      "cell_type": "markdown",
      "source": [
        "![](https://upload.wikimedia.org/wikipedia/commons/thumb/3/32/Ellipse_parameters_3.svg/420px-Ellipse_parameters_3.svg.png)"
      ]
    },
    {
      "metadata": {
        "id": "W2y_DPWK7j6O",
        "colab_type": "text"
      },
      "cell_type": "markdown",
      "source": [
        "**Эллипс** - геометрическое место точек $M$ евклидовой плоскости, дли которых сумма расстояний до двух данных точек $F_1$ и $F_2$ (называемых фокусами) постоянна и больше расстояния между фокусами. \n",
        "\n",
        "Для любого эллипса можно найти декартову систему координат такую, что эллипс будет описываться **каноническим уравнением** $\\frac{x^2}{a^2} + \\frac{y^2}{b^2}=1$, центр эллипса будет совпадать с началом координат, а оси эллипса с осями координат\n",
        "\n",
        "---\n",
        "\n",
        "*  Проходящий через фокусы эллипса отрезок $AB$, концы которого лежат на эллипсе, называется **большой осью** данного эллипса.\n",
        "\n",
        "*   Отрезок $CD$, перпендикулярный большой оси эллипса, проходящий через центральную точку большой оси, концы которого лежат на эллипсе, называется **малой осью** эллипса\n",
        "\n",
        "* Точка пересечения большой и малой осей эллипса называется его **центром**\n",
        "\n",
        "* Отрезки, проведённые из центра эллипса к вершинам на большой и малой осях с длинами $a$ и $b$ называются, соответственно, **большой полуосью** и **малой полуосью**\n",
        "\n",
        "* Расстояния $r_1$ и $r_2$ от каждого из фокусов до данной точки на эллипсе называются **фокальными радиусами** в этой точке\n",
        "\n",
        "* Расстояние $c=\\frac{|F_1F_2|}{2}$ называется **фокальным расстоянием**, $a^2=b^2+c^2$\n",
        "\n",
        "* Величина  $e=c/a=\\sqrt{1-\\frac{b^2}{a^2}}$, $(0 \\leqslant e < 1)$ называется **эксцентриситетом**\n",
        "\n",
        "* **Диаметром** эллипса называют произвольную хорду, проходящую через его центр\n",
        "\n",
        "* **Радиус** эллипса в данной точке это отрезок, соединяющий центр эллипса с точкой, а также его длина, которая вычисляется по формуле $r=\\frac{ab}{\\sqrt{b^2\\cos^2\\phi + a^2\\sin^2\\phi}} = \\frac{b}{\\sqrt{1-e^2\\cos^2\\phi}}$\n",
        "\n",
        "* **Фокальным параметром** $p=\\frac{b^2}{a}$ называется половина длины хорды, проходящей через фокус и перпендикулярной большой оси эллипса\n",
        "\n",
        "---\n",
        "\n",
        "**Соотношения между характеристиками эллипса**\n",
        "\n",
        "\\begin{array}[t]{|l|c|c|c|c|c|c|}\n",
        "\\hline\n",
        " & a & b & c & p & r_p & r_a \\\\ \\hline\n",
        "a\\text{ - большая полуось} & a & \\frac{b}{\\sqrt{1-e^2}} & \\frac{c}{e} &\\frac{p}{1-e^2} & \\frac{r_p}{1-e} & \\frac{r_a}{1+e} \\\\ \\hline\n",
        "b\\text{ - малая полуось} & a\\sqrt{1-e^2} & b & \\frac{c\\sqrt{1-e^2}}{e} & \\frac{p}{1-e^2} & r_p\\sqrt{\\frac{1+e}{1-e}} & r_a\\sqrt{\\frac{1-e}{1+e}} \\\\ \\hline\n",
        "c\\text{ - фокальное расстояние} & ae & \\frac{be}{\\sqrt{1-e^2}} & c & \\frac{pe}{1-e^2} & \\frac{r_pe}{1-e} & \\frac{r_ae}{1+e} \\\\ \\hline\n",
        "p\\text{ - фокальный параметр} & a(1-e^2) & b\\sqrt{1-e^2} & c\\frac{1-e^2}{e} & p & r_p(1+e) & r_a(1-e) \\\\ \\hline\n",
        "r_p\\text{ - перифокусное расстояние} & a(1-e) & b\\sqrt{\\frac{1-e}{1+e}} & c\\frac{1-e}{e} & \\frac{p}{1+e} & r_p & r_a\\frac{1-e}{1+e} \\\\ \\hline\n",
        "r_a\\text{ - апофокусное расстояние} & a(1+e) & b\\sqrt{\\frac{1+e}{1-e}} & c\\frac{1+e}{e} & \\frac{p}{1-e} & r_p\\frac{1+e}{1-e} & r_a \\\\ \\hline\n",
        "\\end{array}\n",
        "\n",
        "---\n",
        "\n",
        "**Длина дуги эллипса**\n",
        "\n",
        "$$\\ell = a\\int_{t_1}^{t_2} \\sqrt{1-e^2\\cos^2t} dt $$\n",
        "\n",
        "Этот интеграл принадлежит семейству эллиптических интегралов, которые в элементарных функциях не выражаются.\n",
        "\n",
        "Формула для вычисления периметра эллипса\n",
        "\n",
        "$$\\mathcal{L}=\\pi(a+b) \\left(1 + \\sum_{n=1}^{\\infty} \\left[ \\frac{(2n-1)!!}{(2n-1)2^nn!}\\left(\\frac{a-b}{a+b}\\right)^n \\right] ^2\\right)$$"
      ]
    }
  ]
}